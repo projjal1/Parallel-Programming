{
 "cells": [
  {
   "cell_type": "code",
   "execution_count": 2,
   "id": "4c349501",
   "metadata": {},
   "outputs": [
    {
     "data": {
      "text/html": [
       "<table style=\"border: 2px solid white;\">\n",
       "<tr>\n",
       "<td style=\"vertical-align: top; border: 0px solid white\">\n",
       "<h3 style=\"text-align: left;\">Client</h3>\n",
       "<ul style=\"text-align: left; list-style: none; margin: 0; padding: 0;\">\n",
       "  <li><b>Scheduler: </b>inproc://192.168.0.4/2356/1</li>\n",
       "  <li><b>Dashboard: </b><a href='http://192.168.0.4:8787/status' target='_blank'>http://192.168.0.4:8787/status</a></li>\n",
       "</ul>\n",
       "</td>\n",
       "<td style=\"vertical-align: top; border: 0px solid white\">\n",
       "<h3 style=\"text-align: left;\">Cluster</h3>\n",
       "<ul style=\"text-align: left; list-style:none; margin: 0; padding: 0;\">\n",
       "  <li><b>Workers: </b>4</li>\n",
       "  <li><b>Cores: </b>4</li>\n",
       "  <li><b>Memory: </b>11.85 GiB</li>\n",
       "</ul>\n",
       "</td>\n",
       "</tr>\n",
       "</table>"
      ],
      "text/plain": [
       "<Client: 'inproc://192.168.0.4/2356/1' processes=4 threads=4, memory=11.85 GiB>"
      ]
     },
     "execution_count": 2,
     "metadata": {},
     "output_type": "execute_result"
    }
   ],
   "source": [
    "#dask dashboard for computation\n",
    "from dask.distributed import Client, progress\n",
    "client = Client(processes=False, threads_per_worker=1,\n",
    "                n_workers=4)\n",
    "client"
   ]
  },
  {
   "cell_type": "code",
   "execution_count": 3,
   "id": "ce3c8624",
   "metadata": {},
   "outputs": [],
   "source": [
    "#Import module\n",
    "import dask.array as da"
   ]
  },
  {
   "cell_type": "code",
   "execution_count": 5,
   "id": "5ae5770a",
   "metadata": {},
   "outputs": [],
   "source": [
    "#Define dimensions \n",
    "row,col=10**4,10**4"
   ]
  },
  {
   "cell_type": "code",
   "execution_count": 4,
   "id": "c2c7bd8a",
   "metadata": {},
   "outputs": [
    {
     "data": {
      "text/html": [
       "<table>\n",
       "<tr>\n",
       "<td>\n",
       "<table>\n",
       "  <thead>\n",
       "    <tr><td> </td><th> Array </th><th> Chunk </th></tr>\n",
       "  </thead>\n",
       "  <tbody>\n",
       "    <tr><th> Bytes </th><td> 762.94 MiB </td> <td> 78.12 kiB </td></tr>\n",
       "    <tr><th> Shape </th><td> (10000, 10000) </td> <td> (100, 100) </td></tr>\n",
       "    <tr><th> Count </th><td> 10000 Tasks </td><td> 10000 Chunks </td></tr>\n",
       "    <tr><th> Type </th><td> float64 </td><td> numpy.ndarray </td></tr>\n",
       "  </tbody>\n",
       "</table>\n",
       "</td>\n",
       "<td>\n",
       "<svg width=\"170\" height=\"170\" style=\"stroke:rgb(0,0,0);stroke-width:1\" >\n",
       "\n",
       "  <!-- Horizontal lines -->\n",
       "  <line x1=\"0\" y1=\"0\" x2=\"120\" y2=\"0\" style=\"stroke-width:2\" />\n",
       "  <line x1=\"0\" y1=\"6\" x2=\"120\" y2=\"6\" />\n",
       "  <line x1=\"0\" y1=\"12\" x2=\"120\" y2=\"12\" />\n",
       "  <line x1=\"0\" y1=\"18\" x2=\"120\" y2=\"18\" />\n",
       "  <line x1=\"0\" y1=\"25\" x2=\"120\" y2=\"25\" />\n",
       "  <line x1=\"0\" y1=\"31\" x2=\"120\" y2=\"31\" />\n",
       "  <line x1=\"0\" y1=\"37\" x2=\"120\" y2=\"37\" />\n",
       "  <line x1=\"0\" y1=\"43\" x2=\"120\" y2=\"43\" />\n",
       "  <line x1=\"0\" y1=\"50\" x2=\"120\" y2=\"50\" />\n",
       "  <line x1=\"0\" y1=\"56\" x2=\"120\" y2=\"56\" />\n",
       "  <line x1=\"0\" y1=\"62\" x2=\"120\" y2=\"62\" />\n",
       "  <line x1=\"0\" y1=\"68\" x2=\"120\" y2=\"68\" />\n",
       "  <line x1=\"0\" y1=\"75\" x2=\"120\" y2=\"75\" />\n",
       "  <line x1=\"0\" y1=\"81\" x2=\"120\" y2=\"81\" />\n",
       "  <line x1=\"0\" y1=\"87\" x2=\"120\" y2=\"87\" />\n",
       "  <line x1=\"0\" y1=\"93\" x2=\"120\" y2=\"93\" />\n",
       "  <line x1=\"0\" y1=\"100\" x2=\"120\" y2=\"100\" />\n",
       "  <line x1=\"0\" y1=\"106\" x2=\"120\" y2=\"106\" />\n",
       "  <line x1=\"0\" y1=\"112\" x2=\"120\" y2=\"112\" />\n",
       "  <line x1=\"0\" y1=\"120\" x2=\"120\" y2=\"120\" style=\"stroke-width:2\" />\n",
       "\n",
       "  <!-- Vertical lines -->\n",
       "  <line x1=\"0\" y1=\"0\" x2=\"0\" y2=\"120\" style=\"stroke-width:2\" />\n",
       "  <line x1=\"6\" y1=\"0\" x2=\"6\" y2=\"120\" />\n",
       "  <line x1=\"12\" y1=\"0\" x2=\"12\" y2=\"120\" />\n",
       "  <line x1=\"18\" y1=\"0\" x2=\"18\" y2=\"120\" />\n",
       "  <line x1=\"25\" y1=\"0\" x2=\"25\" y2=\"120\" />\n",
       "  <line x1=\"31\" y1=\"0\" x2=\"31\" y2=\"120\" />\n",
       "  <line x1=\"37\" y1=\"0\" x2=\"37\" y2=\"120\" />\n",
       "  <line x1=\"43\" y1=\"0\" x2=\"43\" y2=\"120\" />\n",
       "  <line x1=\"50\" y1=\"0\" x2=\"50\" y2=\"120\" />\n",
       "  <line x1=\"56\" y1=\"0\" x2=\"56\" y2=\"120\" />\n",
       "  <line x1=\"62\" y1=\"0\" x2=\"62\" y2=\"120\" />\n",
       "  <line x1=\"68\" y1=\"0\" x2=\"68\" y2=\"120\" />\n",
       "  <line x1=\"75\" y1=\"0\" x2=\"75\" y2=\"120\" />\n",
       "  <line x1=\"81\" y1=\"0\" x2=\"81\" y2=\"120\" />\n",
       "  <line x1=\"87\" y1=\"0\" x2=\"87\" y2=\"120\" />\n",
       "  <line x1=\"93\" y1=\"0\" x2=\"93\" y2=\"120\" />\n",
       "  <line x1=\"100\" y1=\"0\" x2=\"100\" y2=\"120\" />\n",
       "  <line x1=\"106\" y1=\"0\" x2=\"106\" y2=\"120\" />\n",
       "  <line x1=\"112\" y1=\"0\" x2=\"112\" y2=\"120\" />\n",
       "  <line x1=\"120\" y1=\"0\" x2=\"120\" y2=\"120\" style=\"stroke-width:2\" />\n",
       "\n",
       "  <!-- Colored Rectangle -->\n",
       "  <polygon points=\"0.0,0.0 120.0,0.0 120.0,120.0 0.0,120.0\" style=\"fill:#8B4903A0;stroke-width:0\"/>\n",
       "\n",
       "  <!-- Text -->\n",
       "  <text x=\"60.000000\" y=\"140.000000\" font-size=\"1.0rem\" font-weight=\"100\" text-anchor=\"middle\" >10000</text>\n",
       "  <text x=\"140.000000\" y=\"60.000000\" font-size=\"1.0rem\" font-weight=\"100\" text-anchor=\"middle\" transform=\"rotate(-90,140.000000,60.000000)\">10000</text>\n",
       "</svg>\n",
       "</td>\n",
       "</tr>\n",
       "</table>"
      ],
      "text/plain": [
       "dask.array<ones, shape=(10000, 10000), dtype=float64, chunksize=(100, 100), chunktype=numpy.ndarray>"
      ]
     },
     "execution_count": 4,
     "metadata": {},
     "output_type": "execute_result"
    }
   ],
   "source": [
    "arr1=da.ones((row,col),chunks=(100,100))\n",
    "arr1"
   ]
  },
  {
   "cell_type": "code",
   "execution_count": 5,
   "id": "787ee95e",
   "metadata": {},
   "outputs": [
    {
     "name": "stdout",
     "output_type": "stream",
     "text": [
      "Sum of all elements: 100000000.0\n"
     ]
    }
   ],
   "source": [
    "#Find out the sum \n",
    "print(\"Sum of all elements:\",arr1.sum().compute())"
   ]
  },
  {
   "cell_type": "code",
   "execution_count": 7,
   "id": "9243c70d",
   "metadata": {},
   "outputs": [
    {
     "data": {
      "text/html": [
       "<table>\n",
       "<tr>\n",
       "<td>\n",
       "<table>\n",
       "  <thead>\n",
       "    <tr><td> </td><th> Array </th><th> Chunk </th></tr>\n",
       "  </thead>\n",
       "  <tbody>\n",
       "    <tr><th> Bytes </th><td> 762.94 MiB </td> <td> 312.50 kiB </td></tr>\n",
       "    <tr><th> Shape </th><td> (10000, 10000) </td> <td> (200, 200) </td></tr>\n",
       "    <tr><th> Count </th><td> 2500 Tasks </td><td> 2500 Chunks </td></tr>\n",
       "    <tr><th> Type </th><td> float64 </td><td> numpy.ndarray </td></tr>\n",
       "  </tbody>\n",
       "</table>\n",
       "</td>\n",
       "<td>\n",
       "<svg width=\"170\" height=\"170\" style=\"stroke:rgb(0,0,0);stroke-width:1\" >\n",
       "\n",
       "  <!-- Horizontal lines -->\n",
       "  <line x1=\"0\" y1=\"0\" x2=\"120\" y2=\"0\" style=\"stroke-width:2\" />\n",
       "  <line x1=\"0\" y1=\"4\" x2=\"120\" y2=\"4\" />\n",
       "  <line x1=\"0\" y1=\"12\" x2=\"120\" y2=\"12\" />\n",
       "  <line x1=\"0\" y1=\"16\" x2=\"120\" y2=\"16\" />\n",
       "  <line x1=\"0\" y1=\"24\" x2=\"120\" y2=\"24\" />\n",
       "  <line x1=\"0\" y1=\"31\" x2=\"120\" y2=\"31\" />\n",
       "  <line x1=\"0\" y1=\"36\" x2=\"120\" y2=\"36\" />\n",
       "  <line x1=\"0\" y1=\"43\" x2=\"120\" y2=\"43\" />\n",
       "  <line x1=\"0\" y1=\"50\" x2=\"120\" y2=\"50\" />\n",
       "  <line x1=\"0\" y1=\"55\" x2=\"120\" y2=\"55\" />\n",
       "  <line x1=\"0\" y1=\"62\" x2=\"120\" y2=\"62\" />\n",
       "  <line x1=\"0\" y1=\"67\" x2=\"120\" y2=\"67\" />\n",
       "  <line x1=\"0\" y1=\"74\" x2=\"120\" y2=\"74\" />\n",
       "  <line x1=\"0\" y1=\"81\" x2=\"120\" y2=\"81\" />\n",
       "  <line x1=\"0\" y1=\"86\" x2=\"120\" y2=\"86\" />\n",
       "  <line x1=\"0\" y1=\"93\" x2=\"120\" y2=\"93\" />\n",
       "  <line x1=\"0\" y1=\"100\" x2=\"120\" y2=\"100\" />\n",
       "  <line x1=\"0\" y1=\"105\" x2=\"120\" y2=\"105\" />\n",
       "  <line x1=\"0\" y1=\"112\" x2=\"120\" y2=\"112\" />\n",
       "  <line x1=\"0\" y1=\"120\" x2=\"120\" y2=\"120\" style=\"stroke-width:2\" />\n",
       "\n",
       "  <!-- Vertical lines -->\n",
       "  <line x1=\"0\" y1=\"0\" x2=\"0\" y2=\"120\" style=\"stroke-width:2\" />\n",
       "  <line x1=\"4\" y1=\"0\" x2=\"4\" y2=\"120\" />\n",
       "  <line x1=\"12\" y1=\"0\" x2=\"12\" y2=\"120\" />\n",
       "  <line x1=\"16\" y1=\"0\" x2=\"16\" y2=\"120\" />\n",
       "  <line x1=\"24\" y1=\"0\" x2=\"24\" y2=\"120\" />\n",
       "  <line x1=\"31\" y1=\"0\" x2=\"31\" y2=\"120\" />\n",
       "  <line x1=\"36\" y1=\"0\" x2=\"36\" y2=\"120\" />\n",
       "  <line x1=\"43\" y1=\"0\" x2=\"43\" y2=\"120\" />\n",
       "  <line x1=\"50\" y1=\"0\" x2=\"50\" y2=\"120\" />\n",
       "  <line x1=\"55\" y1=\"0\" x2=\"55\" y2=\"120\" />\n",
       "  <line x1=\"62\" y1=\"0\" x2=\"62\" y2=\"120\" />\n",
       "  <line x1=\"67\" y1=\"0\" x2=\"67\" y2=\"120\" />\n",
       "  <line x1=\"74\" y1=\"0\" x2=\"74\" y2=\"120\" />\n",
       "  <line x1=\"81\" y1=\"0\" x2=\"81\" y2=\"120\" />\n",
       "  <line x1=\"86\" y1=\"0\" x2=\"86\" y2=\"120\" />\n",
       "  <line x1=\"93\" y1=\"0\" x2=\"93\" y2=\"120\" />\n",
       "  <line x1=\"100\" y1=\"0\" x2=\"100\" y2=\"120\" />\n",
       "  <line x1=\"105\" y1=\"0\" x2=\"105\" y2=\"120\" />\n",
       "  <line x1=\"112\" y1=\"0\" x2=\"112\" y2=\"120\" />\n",
       "  <line x1=\"120\" y1=\"0\" x2=\"120\" y2=\"120\" style=\"stroke-width:2\" />\n",
       "\n",
       "  <!-- Colored Rectangle -->\n",
       "  <polygon points=\"0.0,0.0 120.0,0.0 120.0,120.0 0.0,120.0\" style=\"fill:#8B4903A0;stroke-width:0\"/>\n",
       "\n",
       "  <!-- Text -->\n",
       "  <text x=\"60.000000\" y=\"140.000000\" font-size=\"1.0rem\" font-weight=\"100\" text-anchor=\"middle\" >10000</text>\n",
       "  <text x=\"140.000000\" y=\"60.000000\" font-size=\"1.0rem\" font-weight=\"100\" text-anchor=\"middle\" transform=\"rotate(-90,140.000000,60.000000)\">10000</text>\n",
       "</svg>\n",
       "</td>\n",
       "</tr>\n",
       "</table>"
      ],
      "text/plain": [
       "dask.array<random_sample, shape=(10000, 10000), dtype=float64, chunksize=(200, 200), chunktype=numpy.ndarray>"
      ]
     },
     "execution_count": 7,
     "metadata": {},
     "output_type": "execute_result"
    }
   ],
   "source": [
    "#Create a random array \n",
    "arr2=da.random.random((row,col),chunks=(200,200))\n",
    "arr2"
   ]
  },
  {
   "cell_type": "code",
   "execution_count": 8,
   "id": "5b6102cd",
   "metadata": {},
   "outputs": [
    {
     "name": "stdout",
     "output_type": "stream",
     "text": [
      "Sum of all elements: 50001097.22976066\n"
     ]
    }
   ],
   "source": [
    "#Find out the sum \n",
    "print(\"Sum of all elements:\",arr2.sum().compute())"
   ]
  },
  {
   "cell_type": "code",
   "execution_count": 9,
   "id": "72d281e2",
   "metadata": {},
   "outputs": [
    {
     "name": "stdout",
     "output_type": "stream",
     "text": [
      "Mean of all the elements: 0.5000109722976066\n"
     ]
    }
   ],
   "source": [
    "#Find out the mean of all the elements\n",
    "print(\"Mean of all the elements:\",arr2.mean().compute())"
   ]
  },
  {
   "cell_type": "code",
   "execution_count": 10,
   "id": "744600c3",
   "metadata": {},
   "outputs": [],
   "source": [
    "arr3=da.random.random((row,col),chunks=(1000,1000))"
   ]
  },
  {
   "cell_type": "code",
   "execution_count": 11,
   "id": "a2d2f193",
   "metadata": {},
   "outputs": [],
   "source": [
    "import time \n",
    "start=time.time()\n",
    "arr3.mean().compute()\n",
    "end=time.time()"
   ]
  },
  {
   "cell_type": "code",
   "execution_count": 12,
   "id": "117b8fcc",
   "metadata": {},
   "outputs": [
    {
     "data": {
      "text/plain": [
       "0.7509982585906982"
      ]
     },
     "execution_count": 12,
     "metadata": {},
     "output_type": "execute_result"
    }
   ],
   "source": [
    "end-start"
   ]
  },
  {
   "cell_type": "code",
   "execution_count": 14,
   "id": "305df602",
   "metadata": {},
   "outputs": [],
   "source": [
    "arr3=da.random.random((row,col),chunks=(100,100))\n",
    "start=time.time()\n",
    "arr3.mean().compute()\n",
    "end=time.time()"
   ]
  },
  {
   "cell_type": "code",
   "execution_count": 15,
   "id": "7a55abb3",
   "metadata": {},
   "outputs": [
    {
     "data": {
      "text/plain": [
       "57.71631479263306"
      ]
     },
     "execution_count": 15,
     "metadata": {},
     "output_type": "execute_result"
    }
   ],
   "source": [
    "end-start"
   ]
  },
  {
   "cell_type": "code",
   "execution_count": null,
   "id": "041886b6",
   "metadata": {},
   "outputs": [],
   "source": []
  }
 ],
 "metadata": {
  "kernelspec": {
   "display_name": "Python 3",
   "language": "python",
   "name": "python3"
  },
  "language_info": {
   "codemirror_mode": {
    "name": "ipython",
    "version": 3
   },
   "file_extension": ".py",
   "mimetype": "text/x-python",
   "name": "python",
   "nbconvert_exporter": "python",
   "pygments_lexer": "ipython3",
   "version": "3.7.2"
  }
 },
 "nbformat": 4,
 "nbformat_minor": 5
}
