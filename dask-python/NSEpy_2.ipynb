{
 "cells": [
  {
   "cell_type": "markdown",
   "id": "f8d92992",
   "metadata": {},
   "source": [
    "### Importing Modules"
   ]
  },
  {
   "cell_type": "code",
   "execution_count": 1,
   "id": "341f071b",
   "metadata": {},
   "outputs": [],
   "source": [
    "#Import modules\n",
    "import nsepy\n",
    "from datetime import date\n",
    "import numpy as np"
   ]
  },
  {
   "cell_type": "markdown",
   "id": "cd380aae",
   "metadata": {},
   "source": [
    "### Reading Symbols from File"
   ]
  },
  {
   "cell_type": "code",
   "execution_count": 2,
   "id": "3ef9e529",
   "metadata": {},
   "outputs": [
    {
     "data": {
      "text/html": [
       "<div>\n",
       "<style scoped>\n",
       "    .dataframe tbody tr th:only-of-type {\n",
       "        vertical-align: middle;\n",
       "    }\n",
       "\n",
       "    .dataframe tbody tr th {\n",
       "        vertical-align: top;\n",
       "    }\n",
       "\n",
       "    .dataframe thead th {\n",
       "        text-align: right;\n",
       "    }\n",
       "</style>\n",
       "<table border=\"1\" class=\"dataframe\">\n",
       "  <thead>\n",
       "    <tr style=\"text-align: right;\">\n",
       "      <th></th>\n",
       "      <th>Company Name</th>\n",
       "      <th>Industry</th>\n",
       "      <th>Symbol</th>\n",
       "      <th>Series</th>\n",
       "      <th>ISIN Code</th>\n",
       "    </tr>\n",
       "  </thead>\n",
       "  <tbody>\n",
       "    <tr>\n",
       "      <th>0</th>\n",
       "      <td>ACC Ltd.</td>\n",
       "      <td>CEMENT &amp; CEMENT PRODUCTS</td>\n",
       "      <td>ACC</td>\n",
       "      <td>EQ</td>\n",
       "      <td>INE012A01025</td>\n",
       "    </tr>\n",
       "    <tr>\n",
       "      <th>1</th>\n",
       "      <td>AU Small Finance Bank Ltd.</td>\n",
       "      <td>FINANCIAL SERVICES</td>\n",
       "      <td>AUBANK</td>\n",
       "      <td>EQ</td>\n",
       "      <td>INE949L01017</td>\n",
       "    </tr>\n",
       "    <tr>\n",
       "      <th>2</th>\n",
       "      <td>Aarti Industries Ltd.</td>\n",
       "      <td>CHEMICALS</td>\n",
       "      <td>AARTIIND</td>\n",
       "      <td>EQ</td>\n",
       "      <td>INE769A01020</td>\n",
       "    </tr>\n",
       "    <tr>\n",
       "      <th>3</th>\n",
       "      <td>Abbott India Ltd.</td>\n",
       "      <td>PHARMA</td>\n",
       "      <td>ABBOTINDIA</td>\n",
       "      <td>EQ</td>\n",
       "      <td>INE358A01014</td>\n",
       "    </tr>\n",
       "    <tr>\n",
       "      <th>4</th>\n",
       "      <td>Adani Enterprises Ltd.</td>\n",
       "      <td>METALS</td>\n",
       "      <td>ADANIENT</td>\n",
       "      <td>EQ</td>\n",
       "      <td>INE423A01024</td>\n",
       "    </tr>\n",
       "  </tbody>\n",
       "</table>\n",
       "</div>"
      ],
      "text/plain": [
       "                 Company Name                  Industry      Symbol Series  \\\n",
       "0                    ACC Ltd.  CEMENT & CEMENT PRODUCTS         ACC     EQ   \n",
       "1  AU Small Finance Bank Ltd.        FINANCIAL SERVICES      AUBANK     EQ   \n",
       "2       Aarti Industries Ltd.                 CHEMICALS    AARTIIND     EQ   \n",
       "3           Abbott India Ltd.                    PHARMA  ABBOTINDIA     EQ   \n",
       "4      Adani Enterprises Ltd.                    METALS    ADANIENT     EQ   \n",
       "\n",
       "      ISIN Code  \n",
       "0  INE012A01025  \n",
       "1  INE949L01017  \n",
       "2  INE769A01020  \n",
       "3  INE358A01014  \n",
       "4  INE423A01024  "
      ]
     },
     "execution_count": 2,
     "metadata": {},
     "output_type": "execute_result"
    }
   ],
   "source": [
    "#Import pandas\n",
    "import pandas as pd\n",
    "#Import file and read\n",
    "data=pd.read_csv(\"ind_nifty200list.csv\")\n",
    "#Let's look at data\n",
    "data.head(5)"
   ]
  },
  {
   "cell_type": "code",
   "execution_count": 3,
   "id": "f53ce49e",
   "metadata": {},
   "outputs": [],
   "source": [
    "#symbols\n",
    "symbols=list(data[\"Symbol\"].values)"
   ]
  },
  {
   "cell_type": "code",
   "execution_count": 4,
   "id": "1b714add",
   "metadata": {},
   "outputs": [],
   "source": [
    "#Import dask\n",
    "import dask"
   ]
  },
  {
   "cell_type": "code",
   "execution_count": 11,
   "id": "db90fa4e",
   "metadata": {},
   "outputs": [],
   "source": [
    "#Call api using list of symbols and start-end dates (Parallel Using Dask)\n",
    "total_result=[]\n",
    "\n",
    "for sym in symbols:\n",
    "    sbin = dask.delayed(nsepy.get_history)(symbol=sym,start=date(2020,8,1),end=date(2021,6,25))\n",
    "    total_result.append(sbin)\n",
    "    \n",
    "data_arr=dask.delayed()(total_result)"
   ]
  },
  {
   "cell_type": "code",
   "execution_count": 12,
   "id": "5ea35129",
   "metadata": {},
   "outputs": [
    {
     "name": "stdout",
     "output_type": "stream",
     "text": [
      "Time for execution: 84.12635278701782\n"
     ]
    }
   ],
   "source": [
    "import time \n",
    "start=time.time()\n",
    "total_history_dataset=data_arr.compute()\n",
    "end=time.time()\n",
    "print(\"Time for execution: {}\".format(end-start))"
   ]
  },
  {
   "cell_type": "code",
   "execution_count": 13,
   "id": "6a140a99",
   "metadata": {},
   "outputs": [
    {
     "data": {
      "text/plain": [
       "200"
      ]
     },
     "execution_count": 13,
     "metadata": {},
     "output_type": "execute_result"
    }
   ],
   "source": [
    "#Total symbols in the dataset generated\n",
    "df=total_history_dataset\n",
    "len(df)"
   ]
  },
  {
   "cell_type": "markdown",
   "id": "3c83c3f4",
   "metadata": {},
   "source": [
    "###  PART 1   :    Calculate % change of stocks   (For last 10 days)"
   ]
  },
  {
   "cell_type": "code",
   "execution_count": 15,
   "id": "29c783e9",
   "metadata": {},
   "outputs": [
    {
     "name": "stdout",
     "output_type": "stream",
     "text": [
      "Time for execution: 0.04471230506896973 secs\n"
     ]
    }
   ],
   "source": [
    "def change_per_symbol(idx):\n",
    "    #Extracting close price  : inverting order\n",
    "    cp=df[idx][\"Close\"].values[-20:][::-1]\n",
    "    result=[]\n",
    "    \n",
    "    for i in range(10):\n",
    "        close_today=cp[i]\n",
    "        ten_days_data=cp[i:i+10]\n",
    "        avg_moving_ten_days=np.mean(ten_days_data)\n",
    "        \n",
    "        #Calculate change\n",
    "        change=(close_today-avg_moving_ten_days)/avg_moving_ten_days\n",
    "        \n",
    "        result.append(change)\n",
    "    \n",
    "    result=np.array(result)\n",
    "    return np.mean(result)\n",
    "    \n",
    "    \n",
    "total_result=[]\n",
    "for i in range(len(df)):\n",
    "    try:\n",
    "        sym=df[i][\"Symbol\"].values[0]\n",
    "        #Call function to calcuate change per symbol\n",
    "        y=dask.delayed(change_per_symbol)(i)\n",
    "        total_result.append((sym,y))\n",
    "    except:\n",
    "        pass\n",
    "\n",
    "#Fetch result\n",
    "z=dask.delayed()(total_result)\n",
    "\n",
    "start=time.time()\n",
    "#Compute dask function\n",
    "result = z.compute()\n",
    "end=time.time()\n",
    "\n",
    "#Display\n",
    "print(\"Time for execution: {} secs\".format(end-start))"
   ]
  },
  {
   "cell_type": "code",
   "execution_count": 16,
   "id": "ecd4ce42",
   "metadata": {},
   "outputs": [
    {
     "data": {
      "text/plain": [
       "[('ACC', 0.0024391403579039498),\n",
       " ('AUBANK', 0.007770957422810344),\n",
       " ('AARTIIND', -0.17015102979910263),\n",
       " ('ABBOTINDIA', 0.01188482472835971),\n",
       " ('ADANIENT', -0.0301712165230835),\n",
       " ('ADANIGREEN', 0.001971553419495599),\n",
       " ('ADANIPORTS', -0.07568606619190674),\n",
       " ('ADANIGAS', 0.08198371774292615),\n",
       " ('ADANITRANS', 0.053734859503954346),\n",
       " ('ABCAPITAL', -0.01907286593419156),\n",
       " ('ABFRL', 0.011463882108126312),\n",
       " ('AJANTPHARM', 0.002741501292957587),\n",
       " ('APLLTD', 0.006128434534834514),\n",
       " ('ALKEM', -0.0029765935988459117),\n",
       " ('AMARAJABAT', -0.003929967935302688),\n",
       " ('AMBUJACEM', 0.01114696846383311),\n",
       " ('APOLLOHOSP', -0.006493712453195759),\n",
       " ('APOLLOTYRE', -0.0226564002816658),\n",
       " ('ASHOKLEY', -0.029315670728516752),\n",
       " ('ASIANPAINT', 0.013031894074491087)]"
      ]
     },
     "execution_count": 16,
     "metadata": {},
     "output_type": "execute_result"
    }
   ],
   "source": [
    "#Result for change for first 20 symbols \n",
    "result[:20]"
   ]
  },
  {
   "cell_type": "markdown",
   "id": "dd498ecd",
   "metadata": {},
   "source": [
    "###  PART 2   :    Calculate % change of stocks   (For last 100 days)"
   ]
  },
  {
   "cell_type": "code",
   "execution_count": 17,
   "id": "dbdb6ed6",
   "metadata": {},
   "outputs": [
    {
     "name": "stdout",
     "output_type": "stream",
     "text": [
      "Time for execution: 0.20891499519348145 secs\n"
     ]
    }
   ],
   "source": [
    "def change_per_symbol(idx):\n",
    "    #Extracting close price  : inverting order\n",
    "    cp=df[idx][\"Close\"].values[-110:][::-1]\n",
    "    result=[]\n",
    "    \n",
    "    for i in range(100):\n",
    "        close_today=cp[i]\n",
    "        ten_days_data=cp[i:i+10]\n",
    "        avg_moving_ten_days=np.mean(ten_days_data)\n",
    "        \n",
    "        #Calculate change\n",
    "        change=(close_today-avg_moving_ten_days)/avg_moving_ten_days\n",
    "        \n",
    "        result.append(change)\n",
    "    \n",
    "    result=np.array(result)\n",
    "    return np.mean(result)\n",
    "    \n",
    "    \n",
    "total_result=[]\n",
    "for i in range(len(df)):\n",
    "    try:\n",
    "        sym=df[i][\"Symbol\"].values[0]\n",
    "        #Call function to calcuate change per symbol\n",
    "        y=dask.delayed(change_per_symbol)(i)\n",
    "        total_result.append((sym,y))\n",
    "    except:\n",
    "        pass\n",
    "\n",
    "#Fetch result\n",
    "z=dask.delayed()(total_result)\n",
    "\n",
    "start=time.time()\n",
    "#Compute dask function\n",
    "result = z.compute()\n",
    "end=time.time()\n",
    "\n",
    "#Display\n",
    "print(\"Time for execution: {} secs\".format(end-start))"
   ]
  },
  {
   "cell_type": "code",
   "execution_count": 20,
   "id": "cc603cfa",
   "metadata": {},
   "outputs": [
    {
     "data": {
      "text/plain": [
       "[('ACC', 0.009037428952352189),\n",
       " ('AUBANK', 0.007287817701778332),\n",
       " ('AARTIIND', 0.0021424774579712437),\n",
       " ('ABBOTINDIA', 0.005746769032602292),\n",
       " ('ADANIENT', 0.049014570117527655),\n",
       " ('ADANIGREEN', 0.00845445467229479),\n",
       " ('ADANIPORTS', 0.014066147066034446),\n",
       " ('ADANIGAS', 0.06690344166541458),\n",
       " ('ADANITRANS', 0.058026283867146346),\n",
       " ('ABCAPITAL', 0.015968457876428463),\n",
       " ('ABFRL', 0.011443584988126039),\n",
       " ('AJANTPHARM', 0.0052233970155231655),\n",
       " ('APLLTD', 0.0009857267254703359),\n",
       " ('ALKEM', 0.0011052111988328894),\n",
       " ('AMARAJABAT', -0.011521466270630176),\n",
       " ('AMBUJACEM', 0.013799373308500777),\n",
       " ('APOLLOHOSP', 0.010118546063189958),\n",
       " ('APOLLOTYRE', 0.003970833313053356),\n",
       " ('ASHOKLEY', 0.001291925474113856),\n",
       " ('ASIANPAINT', 0.007865379623524363)]"
      ]
     },
     "execution_count": 20,
     "metadata": {},
     "output_type": "execute_result"
    }
   ],
   "source": [
    "#Result for change for first 20 symbols \n",
    "result[:20]"
   ]
  }
 ],
 "metadata": {
  "interpreter": {
   "hash": "3a01b0da066fd7b5552522c5b1d19660bfcbc48f1cfeafa1fe79e10cb153cb89"
  },
  "kernelspec": {
   "display_name": "Python 3",
   "language": "python",
   "name": "python3"
  },
  "language_info": {
   "codemirror_mode": {
    "name": "ipython",
    "version": 3
   },
   "file_extension": ".py",
   "mimetype": "text/x-python",
   "name": "python",
   "nbconvert_exporter": "python",
   "pygments_lexer": "ipython3",
   "version": "3.7.5"
  }
 },
 "nbformat": 4,
 "nbformat_minor": 5
}
