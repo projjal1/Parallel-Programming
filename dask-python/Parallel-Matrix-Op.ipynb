{
 "cells": [
  {
   "cell_type": "code",
   "execution_count": 1,
   "id": "ef46389c",
   "metadata": {},
   "outputs": [
    {
     "name": "stdout",
     "output_type": "stream",
     "text": [
      "Requirement already satisfied: dask[complete] in c:\\users\\projjal\\appdata\\local\\programs\\python\\python37\\lib\\site-packages (2021.5.0)\n",
      "Requirement already satisfied: pyyaml in c:\\users\\projjal\\appdata\\local\\programs\\python\\python37\\lib\\site-packages (from dask[complete]) (5.4.1)\n",
      "Requirement already satisfied: fsspec>=0.6.0 in c:\\users\\projjal\\appdata\\local\\programs\\python\\python37\\lib\\site-packages (from dask[complete]) (2021.5.0)\n",
      "Requirement already satisfied: partd>=0.3.10 in c:\\users\\projjal\\appdata\\local\\programs\\python\\python37\\lib\\site-packages (from dask[complete]) (1.2.0)\n",
      "Requirement already satisfied: toolz>=0.8.2 in c:\\users\\projjal\\appdata\\local\\programs\\python\\python37\\lib\\site-packages (from dask[complete]) (0.11.1)\n",
      "Requirement already satisfied: cloudpickle>=1.1.1 in c:\\users\\projjal\\appdata\\local\\programs\\python\\python37\\lib\\site-packages (from dask[complete]) (1.6.0)\n",
      "Requirement already satisfied: bokeh!=2.0.0,>=1.0.0 in c:\\users\\projjal\\appdata\\local\\programs\\python\\python37\\lib\\site-packages (from dask[complete]) (2.3.2)\n",
      "Requirement already satisfied: distributed==2021.05.0 in c:\\users\\projjal\\appdata\\local\\programs\\python\\python37\\lib\\site-packages (from dask[complete]) (2021.5.0)\n",
      "Requirement already satisfied: numpy>=1.16 in c:\\users\\projjal\\appdata\\local\\programs\\python\\python37\\lib\\site-packages (from dask[complete]) (1.20.3)\n",
      "Requirement already satisfied: pandas>=0.25.0 in c:\\users\\projjal\\appdata\\local\\programs\\python\\python37\\lib\\site-packages (from dask[complete]) (1.1.5)\n",
      "Requirement already satisfied: sortedcontainers!=2.0.0,!=2.0.1 in c:\\users\\projjal\\appdata\\local\\programs\\python\\python37\\lib\\site-packages (from distributed==2021.05.0->dask[complete]) (2.4.0)\n",
      "Requirement already satisfied: tblib>=1.6.0 in c:\\users\\projjal\\appdata\\local\\programs\\python\\python37\\lib\\site-packages (from distributed==2021.05.0->dask[complete]) (1.7.0)\n",
      "Requirement already satisfied: setuptools in c:\\users\\projjal\\appdata\\local\\programs\\python\\python37\\lib\\site-packages (from distributed==2021.05.0->dask[complete]) (57.0.0)\n",
      "Requirement already satisfied: click>=6.6 in c:\\users\\projjal\\appdata\\local\\programs\\python\\python37\\lib\\site-packages (from distributed==2021.05.0->dask[complete]) (8.0.0)\n",
      "Requirement already satisfied: psutil>=5.0 in c:\\users\\projjal\\appdata\\local\\programs\\python\\python37\\lib\\site-packages (from distributed==2021.05.0->dask[complete]) (5.8.0)\n",
      "Requirement already satisfied: zict>=0.1.3 in c:\\users\\projjal\\appdata\\local\\programs\\python\\python37\\lib\\site-packages (from distributed==2021.05.0->dask[complete]) (2.0.0)\n",
      "Requirement already satisfied: tornado>=5 in c:\\users\\projjal\\appdata\\local\\programs\\python\\python37\\lib\\site-packages (from distributed==2021.05.0->dask[complete]) (6.1)\n",
      "Requirement already satisfied: msgpack>=0.6.0 in c:\\users\\projjal\\appdata\\local\\programs\\python\\python37\\lib\\site-packages (from distributed==2021.05.0->dask[complete]) (1.0.2)\n",
      "Requirement already satisfied: packaging>=16.8 in c:\\users\\projjal\\appdata\\local\\programs\\python\\python37\\lib\\site-packages (from bokeh!=2.0.0,>=1.0.0->dask[complete]) (20.9)\n",
      "Requirement already satisfied: typing-extensions>=3.7.4 in c:\\users\\projjal\\appdata\\local\\programs\\python\\python37\\lib\\site-packages (from bokeh!=2.0.0,>=1.0.0->dask[complete]) (3.10.0.0)\n",
      "Requirement already satisfied: pillow>=7.1.0 in c:\\users\\projjal\\appdata\\local\\programs\\python\\python37\\lib\\site-packages (from bokeh!=2.0.0,>=1.0.0->dask[complete]) (8.2.0)\n",
      "Requirement already satisfied: python-dateutil>=2.1 in c:\\users\\projjal\\appdata\\local\\programs\\python\\python37\\lib\\site-packages (from bokeh!=2.0.0,>=1.0.0->dask[complete]) (2.8.1)\n",
      "Requirement already satisfied: Jinja2>=2.9 in c:\\users\\projjal\\appdata\\local\\programs\\python\\python37\\lib\\site-packages (from bokeh!=2.0.0,>=1.0.0->dask[complete]) (3.0.0)\n",
      "Requirement already satisfied: colorama in c:\\users\\projjal\\appdata\\local\\programs\\python\\python37\\lib\\site-packages (from click>=6.6->distributed==2021.05.0->dask[complete]) (0.4.4)\n",
      "Requirement already satisfied: MarkupSafe>=2.0.0rc2 in c:\\users\\projjal\\appdata\\local\\programs\\python\\python37\\lib\\site-packages (from Jinja2>=2.9->bokeh!=2.0.0,>=1.0.0->dask[complete]) (2.0.0)\n",
      "Requirement already satisfied: pyparsing>=2.0.2 in c:\\users\\projjal\\appdata\\local\\programs\\python\\python37\\lib\\site-packages (from packaging>=16.8->bokeh!=2.0.0,>=1.0.0->dask[complete]) (2.4.7)\n",
      "Requirement already satisfied: pytz>=2017.2 in c:\\users\\projjal\\appdata\\local\\programs\\python\\python37\\lib\\site-packages (from pandas>=0.25.0->dask[complete]) (2021.1)\n",
      "Requirement already satisfied: locket in c:\\users\\projjal\\appdata\\local\\programs\\python\\python37\\lib\\site-packages (from partd>=0.3.10->dask[complete]) (0.2.1)\n",
      "Requirement already satisfied: six>=1.5 in c:\\users\\projjal\\appdata\\local\\programs\\python\\python37\\lib\\site-packages (from python-dateutil>=2.1->bokeh!=2.0.0,>=1.0.0->dask[complete]) (1.16.0)\n",
      "Requirement already satisfied: heapdict in c:\\users\\projjal\\appdata\\local\\programs\\python\\python37\\lib\\site-packages (from zict>=0.1.3->distributed==2021.05.0->dask[complete]) (1.0.1)\n"
     ]
    }
   ],
   "source": [
    "!pip install \"dask[complete]\""
   ]
  },
  {
   "cell_type": "code",
   "execution_count": 2,
   "id": "6787695b",
   "metadata": {},
   "outputs": [],
   "source": [
    "#Starting DASK client cluster\n",
    "from dask.distributed import Client\n",
    "client = Client(n_workers=4)"
   ]
  },
  {
   "cell_type": "markdown",
   "id": "a8d176d9",
   "metadata": {},
   "source": [
    "### Calling Function"
   ]
  },
  {
   "cell_type": "code",
   "execution_count": 3,
   "id": "2d7c161f",
   "metadata": {},
   "outputs": [],
   "source": [
    "from time import sleep\n",
    "\n",
    "def inc(x):\n",
    "    sleep(1)\n",
    "    return x + 1\n",
    "\n",
    "def add(x, y):\n",
    "    sleep(1)\n",
    "    return x + y"
   ]
  },
  {
   "cell_type": "code",
   "execution_count": 4,
   "id": "8eddcd34",
   "metadata": {},
   "outputs": [
    {
     "name": "stdout",
     "output_type": "stream",
     "text": [
      "Wall time: 3.04 s\n"
     ]
    }
   ],
   "source": [
    "%%time\n",
    "# This takes three seconds to run because we call each\n",
    "# function sequentially, one after the other\n",
    "\n",
    "x = inc(1)\n",
    "y = inc(2)\n",
    "z = add(x, y)"
   ]
  },
  {
   "cell_type": "code",
   "execution_count": 5,
   "id": "967ff3ed",
   "metadata": {},
   "outputs": [],
   "source": [
    "import dask"
   ]
  },
  {
   "cell_type": "code",
   "execution_count": 6,
   "id": "6699af07",
   "metadata": {},
   "outputs": [
    {
     "name": "stdout",
     "output_type": "stream",
     "text": [
      "Wall time: 1 ms\n"
     ]
    }
   ],
   "source": [
    "%%time\n",
    "x=dask.delayed(inc)(1)\n",
    "y=dask.delayed(inc)(2)\n",
    "z=dask.delayed(add)(x,y)"
   ]
  },
  {
   "cell_type": "code",
   "execution_count": 7,
   "id": "fc7ce28f",
   "metadata": {},
   "outputs": [
    {
     "data": {
      "image/png": "[encoded data removed]",
      "text/plain": [
       "<IPython.core.display.Image object>"
      ]
     },
     "execution_count": 7,
     "metadata": {},
     "output_type": "execute_result"
    }
   ],
   "source": [
    "z.visualize()"
   ]
  },
  {
   "cell_type": "code",
   "execution_count": 8,
   "id": "9c469e18",
   "metadata": {},
   "outputs": [
    {
     "name": "stdout",
     "output_type": "stream",
     "text": [
      "Wall time: 2.04 s\n"
     ]
    },
    {
     "data": {
      "text/plain": [
       "5"
      ]
     },
     "execution_count": 8,
     "metadata": {},
     "output_type": "execute_result"
    }
   ],
   "source": [
    "%%time\n",
    "z.compute()"
   ]
  },
  {
   "cell_type": "markdown",
   "id": "0636a0fc",
   "metadata": {},
   "source": [
    "### Parallelize For - Loop"
   ]
  },
  {
   "cell_type": "code",
   "execution_count": 9,
   "id": "33681736",
   "metadata": {},
   "outputs": [],
   "source": [
    "data = [1, 2, 3, 4, 5, 6, 7, 8]"
   ]
  },
  {
   "cell_type": "code",
   "execution_count": 10,
   "id": "497094cc",
   "metadata": {},
   "outputs": [
    {
     "name": "stdout",
     "output_type": "stream",
     "text": [
      "Wall time: 8.07 s\n"
     ]
    }
   ],
   "source": [
    "%%time\n",
    "# Sequential code\n",
    "\n",
    "results = []\n",
    "for x in data:\n",
    "    y = inc(x)\n",
    "    results.append(y)\n",
    "\n",
    "total = sum(results)"
   ]
  },
  {
   "cell_type": "code",
   "execution_count": 11,
   "id": "32003a5a",
   "metadata": {},
   "outputs": [
    {
     "data": {
      "text/plain": [
       "44"
      ]
     },
     "execution_count": 11,
     "metadata": {},
     "output_type": "execute_result"
    }
   ],
   "source": [
    "total"
   ]
  },
  {
   "cell_type": "code",
   "execution_count": 20,
   "id": "891d0707",
   "metadata": {},
   "outputs": [],
   "source": [
    "results=[]\n",
    "for x in data:\n",
    "    y=dask.delayed(inc)(x)\n",
    "    results.append(y)\n",
    "    \n",
    "total=dask.delayed(sum)(results)"
   ]
  },
  {
   "cell_type": "code",
   "execution_count": 21,
   "id": "efb1cfaa",
   "metadata": {},
   "outputs": [
    {
     "data": {
      "image/png": "[encoded data removed]",
      "text/plain": [
       "<IPython.core.display.Image object>"
      ]
     },
     "execution_count": 21,
     "metadata": {},
     "output_type": "execute_result"
    }
   ],
   "source": [
    "total.visualize()"
   ]
  },
  {
   "cell_type": "code",
   "execution_count": 19,
   "id": "1cf3fc90",
   "metadata": {},
   "outputs": [
    {
     "name": "stdout",
     "output_type": "stream",
     "text": [
      "Wall time: 2.05 s\n"
     ]
    },
    {
     "data": {
      "text/plain": [
       "44"
      ]
     },
     "execution_count": 19,
     "metadata": {},
     "output_type": "execute_result"
    }
   ],
   "source": [
    "%%time\n",
    "total.compute()"
   ]
  },
  {
   "cell_type": "markdown",
   "id": "fb10059c",
   "metadata": {},
   "source": [
    "### Sum calculation row-wise"
   ]
  },
  {
   "cell_type": "code",
   "execution_count": 22,
   "id": "7aac812f",
   "metadata": {},
   "outputs": [],
   "source": [
    "import numpy as np "
   ]
  },
  {
   "cell_type": "code",
   "execution_count": 50,
   "id": "2d948f4d",
   "metadata": {},
   "outputs": [
    {
     "data": {
      "text/plain": [
       "array([[2, 1, 1, ..., 2, 1, 2],\n",
       "       [2, 1, 2, ..., 1, 2, 2],\n",
       "       [2, 2, 2, ..., 1, 1, 1],\n",
       "       ...,\n",
       "       [2, 2, 2, ..., 2, 1, 1],\n",
       "       [1, 2, 2, ..., 2, 2, 2],\n",
       "       [1, 1, 2, ..., 2, 2, 1]])"
      ]
     },
     "execution_count": 50,
     "metadata": {},
     "output_type": "execute_result"
    }
   ],
   "source": [
    "arr=np.random.randint(1,3,(10**4,10))\n",
    "arr"
   ]
  },
  {
   "cell_type": "code",
   "execution_count": 51,
   "id": "4436f99e",
   "metadata": {},
   "outputs": [],
   "source": [
    "n=np.mean(arr,axis=0)"
   ]
  },
  {
   "cell_type": "code",
   "execution_count": 52,
   "id": "8b979324",
   "metadata": {},
   "outputs": [
    {
     "data": {
      "text/plain": [
       "array([1.5049, 1.4991, 1.5008, 1.4908, 1.4971, 1.5017, 1.5042, 1.499 ,\n",
       "       1.5068, 1.5026])"
      ]
     },
     "execution_count": 52,
     "metadata": {},
     "output_type": "execute_result"
    }
   ],
   "source": [
    "n"
   ]
  },
  {
   "cell_type": "code",
   "execution_count": 54,
   "id": "972485b1",
   "metadata": {},
   "outputs": [
    {
     "data": {
      "text/plain": [
       "0.0010013580322265625"
      ]
     },
     "execution_count": 54,
     "metadata": {},
     "output_type": "execute_result"
    }
   ],
   "source": [
    "import time \n",
    "start=time.time()\n",
    "result=arr-n\n",
    "end=time.time()\n",
    "end-start"
   ]
  },
  {
   "cell_type": "code",
   "execution_count": 58,
   "id": "13a2bec5",
   "metadata": {},
   "outputs": [
    {
     "data": {
      "text/plain": [
       "0.02801823616027832"
      ]
     },
     "execution_count": 58,
     "metadata": {},
     "output_type": "execute_result"
    }
   ],
   "source": [
    "result=np.zeros((10**4,10))\n",
    "\n",
    "import time \n",
    "start=time.time()\n",
    "for row in range(10**4):\n",
    "    result[row]=arr[row]-n\n",
    "end=time.time()\n",
    "end-start"
   ]
  },
  {
   "cell_type": "code",
   "execution_count": 63,
   "id": "14a141c5",
   "metadata": {},
   "outputs": [],
   "source": [
    "def sub(x,y):\n",
    "    sleep(1)\n",
    "    return x-y\n",
    "\n",
    "import dask.array as da\n",
    "\n",
    "dask_arr=da.random.randint(1,3,(10**5,10))\n",
    "n=dask_arr.mean(axis=0)\n",
    "\n",
    "result=dask_arr-n"
   ]
  },
  {
   "cell_type": "code",
   "execution_count": 64,
   "id": "1cb562f1",
   "metadata": {},
   "outputs": [
    {
     "data": {
      "image/png": "[encoded data removed]",
      "text/plain": [
       "<IPython.core.display.Image object>"
      ]
     },
     "execution_count": 64,
     "metadata": {},
     "output_type": "execute_result"
    }
   ],
   "source": [
    "result.visualize()"
   ]
  },
  {
   "cell_type": "code",
   "execution_count": 65,
   "id": "954e9485",
   "metadata": {},
   "outputs": [
    {
     "name": "stdout",
     "output_type": "stream",
     "text": [
      "Wall time: 859 ms\n"
     ]
    },
    {
     "data": {
      "text/plain": [
       "array([[ 0.50255, -0.49902,  0.49775, ...,  0.49889,  0.49938,  0.50073],\n",
       "       [ 0.50255, -0.49902, -0.50225, ...,  0.49889,  0.49938, -0.49927],\n",
       "       [ 0.50255,  0.50098,  0.49775, ...,  0.49889, -0.50062,  0.50073],\n",
       "       ...,\n",
       "       [ 0.50255, -0.49902, -0.50225, ..., -0.50111, -0.50062, -0.49927],\n",
       "       [-0.49745, -0.49902, -0.50225, ...,  0.49889, -0.50062, -0.49927],\n",
       "       [ 0.50255,  0.50098,  0.49775, ..., -0.50111,  0.49938, -0.49927]])"
      ]
     },
     "execution_count": 65,
     "metadata": {},
     "output_type": "execute_result"
    }
   ],
   "source": [
    "%%time \n",
    "result.compute()"
   ]
  },
  {
   "cell_type": "code",
   "execution_count": null,
   "id": "349d5f2c",
   "metadata": {},
   "outputs": [],
   "source": []
  }
 ],
 "metadata": {
  "kernelspec": {
   "display_name": "Python 3",
   "language": "python",
   "name": "python3"
  },
  "language_info": {
   "codemirror_mode": {
    "name": "ipython",
    "version": 3
   },
   "file_extension": ".py",
   "mimetype": "text/x-python",
   "name": "python",
   "nbconvert_exporter": "python",
   "pygments_lexer": "ipython3",
   "version": "3.7.2"
  }
 },
 "nbformat": 4,
 "nbformat_minor": 5
}
